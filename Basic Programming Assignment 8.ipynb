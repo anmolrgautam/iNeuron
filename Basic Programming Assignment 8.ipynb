{
 "cells": [
  {
   "cell_type": "code",
   "execution_count": 1,
   "metadata": {},
   "outputs": [],
   "source": [
    "#import numpy library\n",
    "import numpy as np"
   ]
  },
  {
   "cell_type": "code",
   "execution_count": 2,
   "metadata": {},
   "outputs": [],
   "source": [
    "A = np.array([[1,4,5], [3,4,3], [7,3,5]])\n",
    "B = np.array([[2,0,2], [5,3,7], [6,1,1]])"
   ]
  },
  {
   "cell_type": "markdown",
   "metadata": {},
   "source": [
    "# Q1: Python Program to Add Two Matrices"
   ]
  },
  {
   "cell_type": "code",
   "execution_count": 3,
   "metadata": {},
   "outputs": [
    {
     "name": "stdout",
     "output_type": "stream",
     "text": [
      "Sum: \n",
      "[[ 3  4  7]\n",
      " [ 8  7 10]\n",
      " [13  4  6]]\n"
     ]
    }
   ],
   "source": [
    "if A.shape == B.shape:\n",
    "    print('Sum: \\n{}'.format(A+B))"
   ]
  },
  {
   "cell_type": "markdown",
   "metadata": {},
   "source": [
    "# Q2: Python Program to Multiply Two Matrices"
   ]
  },
  {
   "cell_type": "code",
   "execution_count": 4,
   "metadata": {},
   "outputs": [
    {
     "name": "stdout",
     "output_type": "stream",
     "text": [
      "Multiplication: \n",
      "[[ 2  0 10]\n",
      " [15 12 21]\n",
      " [42  3  5]]\n"
     ]
    }
   ],
   "source": [
    "if ((A.shape[1] == B.shape[0])):\n",
    "    print('Multiplication: \\n{}'.format(A*B))"
   ]
  },
  {
   "cell_type": "markdown",
   "metadata": {},
   "source": [
    "# Q3: Python Program to Transpose a Matrix"
   ]
  },
  {
   "cell_type": "code",
   "execution_count": 5,
   "metadata": {},
   "outputs": [
    {
     "name": "stdout",
     "output_type": "stream",
     "text": [
      "Transposed Matrix\n",
      "[[1 3 7]\n",
      " [4 4 3]\n",
      " [5 3 5]]\n"
     ]
    }
   ],
   "source": [
    "for i in range(A.shape[0]):\n",
    "    for j in range(i):\n",
    "        A[i][j], A[j][i] = A[j][i], A[i][j] \n",
    "print('Transposed Matrix\\n{}'.format(A))"
   ]
  },
  {
   "cell_type": "markdown",
   "metadata": {},
   "source": [
    "# Q4: Python Program to Sort Words in Alphabetic Order"
   ]
  },
  {
   "cell_type": "code",
   "execution_count": 7,
   "metadata": {},
   "outputs": [],
   "source": [
    "l = ['efgh', 'abcd', 'eigh', 'sdvd', 'sdff', 'ddfe', 'afss', 'csff']"
   ]
  },
  {
   "cell_type": "code",
   "execution_count": 8,
   "metadata": {},
   "outputs": [
    {
     "data": {
      "text/plain": [
       "['abcd', 'afss', 'csff', 'ddfe', 'efgh', 'eigh', 'sdff', 'sdvd']"
      ]
     },
     "execution_count": 8,
     "metadata": {},
     "output_type": "execute_result"
    }
   ],
   "source": [
    "l.sort()\n",
    "l"
   ]
  },
  {
   "cell_type": "markdown",
   "metadata": {},
   "source": [
    "# Q5:Python Program to Remove Punctuation From a String"
   ]
  },
  {
   "cell_type": "code",
   "execution_count": 9,
   "metadata": {},
   "outputs": [],
   "source": [
    "s = 'asdf.,fgbd-1233 4,.t d\"vfd?dd:sgg'"
   ]
  },
  {
   "cell_type": "code",
   "execution_count": 10,
   "metadata": {},
   "outputs": [
    {
     "name": "stdout",
     "output_type": "stream",
     "text": [
      "asdffgbd12334tdvfdddsgg\n"
     ]
    }
   ],
   "source": [
    "s1 = ''\n",
    "for i in s:\n",
    "    if i.isalnum():\n",
    "        s1 = s1+i\n",
    "print(s1)"
   ]
  }
 ],
 "metadata": {
  "kernelspec": {
   "display_name": "Python 3",
   "language": "python",
   "name": "python3"
  },
  "language_info": {
   "codemirror_mode": {
    "name": "ipython",
    "version": 3
   },
   "file_extension": ".py",
   "mimetype": "text/x-python",
   "name": "python",
   "nbconvert_exporter": "python",
   "pygments_lexer": "ipython3",
   "version": "3.8.3"
  }
 },
 "nbformat": 4,
 "nbformat_minor": 4
}
