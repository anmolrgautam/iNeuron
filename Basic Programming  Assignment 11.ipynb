{
 "cells": [
  {
   "cell_type": "markdown",
   "metadata": {},
   "source": [
    "# Q1: Python program to find words which are greater than given length k"
   ]
  },
  {
   "cell_type": "code",
   "execution_count": 2,
   "metadata": {},
   "outputs": [
    {
     "name": "stdout",
     "output_type": "stream",
     "text": [
      "Input String: rejth nfafnjnvjnfn nnnfddn njffnz jnfnfnnfnjn\n",
      "Input number: 5\n",
      "\n",
      "\n",
      "nfafnjnvjnfn\n",
      "nnnfddn\n",
      "njffnz\n",
      "jnfnfnnfnjn\n"
     ]
    }
   ],
   "source": [
    "s = input('Input String: ')\n",
    "k = int(input('Input number: '))\n",
    "\n",
    "l = s.split(' ')\n",
    "\n",
    "print('\\n')\n",
    "for val in l:\n",
    "    if len(val) > k: \n",
    "        print(val)"
   ]
  },
  {
   "cell_type": "markdown",
   "metadata": {},
   "source": [
    "# Q2: Python program for removing i-th character from a string"
   ]
  },
  {
   "cell_type": "code",
   "execution_count": 3,
   "metadata": {},
   "outputs": [
    {
     "name": "stdout",
     "output_type": "stream",
     "text": [
      "Input String: khfslkhfd n\n",
      "Input number: 3\n",
      "\n",
      "\n",
      "khflkhfd n\n"
     ]
    }
   ],
   "source": [
    "s = input('Input String: ')\n",
    "i = int(input('Input number: '))\n",
    "\n",
    "print('\\n')\n",
    "print(s[:i] + s[i+1:])"
   ]
  },
  {
   "cell_type": "markdown",
   "metadata": {},
   "source": [
    "# Q3: Python program to split and join a string"
   ]
  },
  {
   "cell_type": "code",
   "execution_count": 4,
   "metadata": {},
   "outputs": [
    {
     "name": "stdout",
     "output_type": "stream",
     "text": [
      "Input String: jnfddjjhumgtff\n",
      "\n",
      "First part:  jnfddjj\n",
      "\n",
      "Second part:  humgtff\n",
      "\n",
      "Joint String jnfddjjhumgtff\n"
     ]
    }
   ],
   "source": [
    "s = input('Input String: ')\n",
    "\n",
    "# split from mid\n",
    "s1 = s[:int(len(s)/2)]\n",
    "s2 = s[int(len(s)/2) :]\n",
    "\n",
    "print('\\nFirst part: ', s1)\n",
    "print('\\nSecond part: ', s2)\n",
    "\n",
    "# join \n",
    "print('\\nJoint String',s1 + s2)"
   ]
  },
  {
   "cell_type": "markdown",
   "metadata": {},
   "source": [
    "# Q4: Python to check if a given string is binary string or not"
   ]
  },
  {
   "cell_type": "code",
   "execution_count": 5,
   "metadata": {},
   "outputs": [
    {
     "name": "stdout",
     "output_type": "stream",
     "text": [
      "Input String: 10101000010001101\n",
      "\n",
      "Input string is a binary string\n"
     ]
    }
   ],
   "source": [
    "s = input('Input String: ')\n",
    "\n",
    "se = set(s)\n",
    "\n",
    "binary_set = {'0', '1'}\n",
    "\n",
    "if se == binary_set or se == {'0'} or se == {'1'}:\n",
    "    print('\\nInput string is a binary string')\n",
    "else:\n",
    "    print('\\nInput string is not a binary string')"
   ]
  },
  {
   "cell_type": "markdown",
   "metadata": {},
   "source": [
    "# Q5: Python program to find uncommon words from two Strings"
   ]
  },
  {
   "cell_type": "code",
   "execution_count": 7,
   "metadata": {},
   "outputs": [
    {
     "name": "stdout",
     "output_type": "stream",
     "text": [
      "Input First String: ct rtvs aw3r4c ghf kjd\n",
      "Input Second String: ct ghf dfds hgh e\n"
     ]
    },
    {
     "data": {
      "text/plain": [
       "['rtvs', 'aw3r4c', 'kjd', 'dfds', 'hgh', 'e']"
      ]
     },
     "execution_count": 7,
     "metadata": {},
     "output_type": "execute_result"
    }
   ],
   "source": [
    "s1 = input('Input First String: ')\n",
    "s2 = input('Input Second String: ')\n",
    "\n",
    "l1 = s1.split(' ')\n",
    "l2 = s2.split(' ')\n",
    "\n",
    "uncommon_words = []\n",
    "for i in l1 + l2:\n",
    "    if (i not in l1 or i not in l2):\n",
    "        uncommon_words.append(i)\n",
    "\n",
    "        \n",
    "uncommon_words"
   ]
  },
  {
   "cell_type": "markdown",
   "metadata": {},
   "source": [
    "# Q6: Python to find all duplicate characters in string"
   ]
  },
  {
   "cell_type": "code",
   "execution_count": 8,
   "metadata": {},
   "outputs": [
    {
     "name": "stdout",
     "output_type": "stream",
     "text": [
      "Input String: gbtdwewqtvgkjkkiugnvcq23e\n"
     ]
    },
    {
     "data": {
      "text/plain": [
       "['k', 'g', 'q', 'v', 't', 'e', 'w']"
      ]
     },
     "execution_count": 8,
     "metadata": {},
     "output_type": "execute_result"
    }
   ],
   "source": [
    "s = input('Input String: ')\n",
    "\n",
    "se = set(s)\n",
    "\n",
    "duplicate = []\n",
    "for val in se:\n",
    "    i = s.find(val)\n",
    "    if ((val in s[i+1:]) & (i != len(s) - 1)):\n",
    "        duplicate.append(val)\n",
    "        \n",
    "duplicate\n",
    "        "
   ]
  },
  {
   "cell_type": "markdown",
   "metadata": {},
   "source": [
    "# Q7: Python Program to check if a string contains any special character"
   ]
  },
  {
   "cell_type": "code",
   "execution_count": 9,
   "metadata": {},
   "outputs": [
    {
     "name": "stdout",
     "output_type": "stream",
     "text": [
      "Input String: hdescfjkhj#$6\n",
      "\n",
      "String has special character\n"
     ]
    }
   ],
   "source": [
    "s = input('Input String: ')\n",
    "\n",
    "flag = 0\n",
    "for i in s:\n",
    "    if i.isalnum():\n",
    "        continue\n",
    "    else:\n",
    "        flag = 1\n",
    "\n",
    "if flag == 1:\n",
    "    print('\\nString has special character')\n",
    "else:\n",
    "    print('\\nString has not any special character')"
   ]
  }
 ],
 "metadata": {
  "kernelspec": {
   "display_name": "Python 3",
   "language": "python",
   "name": "python3"
  },
  "language_info": {
   "codemirror_mode": {
    "name": "ipython",
    "version": 3
   },
   "file_extension": ".py",
   "mimetype": "text/x-python",
   "name": "python",
   "nbconvert_exporter": "python",
   "pygments_lexer": "ipython3",
   "version": "3.8.3"
  }
 },
 "nbformat": 4,
 "nbformat_minor": 4
}
