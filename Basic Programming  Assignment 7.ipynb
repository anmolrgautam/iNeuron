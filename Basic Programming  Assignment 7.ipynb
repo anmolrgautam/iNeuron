{
 "cells": [
  {
   "cell_type": "code",
   "execution_count": 1,
   "metadata": {},
   "outputs": [],
   "source": [
    "#import numpy library\n",
    "import numpy as np"
   ]
  },
  {
   "cell_type": "markdown",
   "metadata": {},
   "source": [
    "# Q1: Python Program to find sum of array"
   ]
  },
  {
   "cell_type": "code",
   "execution_count": 2,
   "metadata": {},
   "outputs": [
    {
     "data": {
      "text/plain": [
       "array([2, 3, 4, 5, 6, 7])"
      ]
     },
     "execution_count": 2,
     "metadata": {},
     "output_type": "execute_result"
    }
   ],
   "source": [
    "a = np.array([2,3,4,5,6,7])\n",
    "a"
   ]
  },
  {
   "cell_type": "code",
   "execution_count": 3,
   "metadata": {},
   "outputs": [
    {
     "data": {
      "text/plain": [
       "27"
      ]
     },
     "execution_count": 3,
     "metadata": {},
     "output_type": "execute_result"
    }
   ],
   "source": [
    "a.sum()"
   ]
  },
  {
   "cell_type": "markdown",
   "metadata": {},
   "source": [
    "# Q2: Python Program to find largest element in an array"
   ]
  },
  {
   "cell_type": "code",
   "execution_count": 4,
   "metadata": {},
   "outputs": [
    {
     "data": {
      "text/plain": [
       "7"
      ]
     },
     "execution_count": 4,
     "metadata": {},
     "output_type": "execute_result"
    }
   ],
   "source": [
    "max(a)"
   ]
  },
  {
   "cell_type": "markdown",
   "metadata": {},
   "source": [
    "# Q3: Python Program for array rotation"
   ]
  },
  {
   "cell_type": "code",
   "execution_count": 5,
   "metadata": {},
   "outputs": [
    {
     "name": "stdout",
     "output_type": "stream",
     "text": [
      "Left Rotation\n",
      "[3 4 5 6 7 2]\n",
      "[4 5 6 7 2 3]\n",
      "[5 6 7 2 3 4]\n",
      "[6 7 2 3 4 5]\n",
      "[7 2 3 4 5 6]\n",
      "[2 3 4 5 6 7]\n"
     ]
    }
   ],
   "source": [
    "print('Left Rotation')\n",
    "for i in range(len(a)):\n",
    "    for i in range(len(a) - 1):\n",
    "        dummy = a[i+1]\n",
    "        a[i + 1] = a[i]\n",
    "        a[i] = dummy\n",
    "    print(a)"
   ]
  },
  {
   "cell_type": "code",
   "execution_count": 6,
   "metadata": {},
   "outputs": [
    {
     "name": "stdout",
     "output_type": "stream",
     "text": [
      "Right Rotation\n",
      "[7 2 3 4 5 6]\n",
      "[6 7 2 3 4 5]\n",
      "[5 6 7 2 3 4]\n",
      "[4 5 6 7 2 3]\n",
      "[3 4 5 6 7 2]\n",
      "[2 3 4 5 6 7]\n"
     ]
    }
   ],
   "source": [
    "print('Right Rotation')\n",
    "for i in range(len(a)):\n",
    "    for i in range(len(a) - 1, 0,-1):\n",
    "        dummy = a[i-1]\n",
    "        a[i - 1] = a[i]\n",
    "        a[i] = dummy\n",
    "    print(a)"
   ]
  },
  {
   "cell_type": "markdown",
   "metadata": {},
   "source": [
    "# Q4: Python Program to Split the array and add the first part to the end"
   ]
  },
  {
   "cell_type": "code",
   "execution_count": 7,
   "metadata": {},
   "outputs": [
    {
     "data": {
      "text/plain": [
       "array([5, 6, 7, 2, 3, 4])"
      ]
     },
     "execution_count": 7,
     "metadata": {},
     "output_type": "execute_result"
    }
   ],
   "source": [
    "b = a[:3]\n",
    "c = a[3:]\n",
    "d = np.append(c, b)\n",
    "d"
   ]
  },
  {
   "cell_type": "markdown",
   "metadata": {},
   "source": [
    "# Q5: Python Program to check if given array is Monotonic"
   ]
  },
  {
   "cell_type": "code",
   "execution_count": 8,
   "metadata": {},
   "outputs": [],
   "source": [
    "a = np.array([1,2,4,7,8,9])\n",
    "b = np.array([5,3,6,2,8,4])"
   ]
  },
  {
   "cell_type": "code",
   "execution_count": 9,
   "metadata": {},
   "outputs": [],
   "source": [
    "def monotonic(a):\n",
    "    flag = 0\n",
    "    if a[0] > a[1]:\n",
    "        for i in range(len(a) -1):\n",
    "            if a[i] > a[i+1]:\n",
    "                pass\n",
    "            else:\n",
    "                flag = 1\n",
    "            \n",
    "    else:\n",
    "        for i in range(len(a) -1):\n",
    "            if a[i] < a[i+1]:\n",
    "                pass\n",
    "            else:\n",
    "                flag = 1\n",
    "            \n",
    "    if flag == 0:\n",
    "        print('Array is monotonic')\n",
    "    else:\n",
    "        print('Array is not monotonic')"
   ]
  },
  {
   "cell_type": "code",
   "execution_count": 10,
   "metadata": {},
   "outputs": [
    {
     "name": "stdout",
     "output_type": "stream",
     "text": [
      "Array is monotonic\n"
     ]
    }
   ],
   "source": [
    "monotonic(a)"
   ]
  },
  {
   "cell_type": "code",
   "execution_count": 11,
   "metadata": {},
   "outputs": [
    {
     "name": "stdout",
     "output_type": "stream",
     "text": [
      "Array is not monotonic\n"
     ]
    }
   ],
   "source": [
    "monotonic(b)"
   ]
  }
 ],
 "metadata": {
  "kernelspec": {
   "display_name": "Python 3",
   "language": "python",
   "name": "python3"
  },
  "language_info": {
   "codemirror_mode": {
    "name": "ipython",
    "version": 3
   },
   "file_extension": ".py",
   "mimetype": "text/x-python",
   "name": "python",
   "nbconvert_exporter": "python",
   "pygments_lexer": "ipython3",
   "version": "3.8.3"
  }
 },
 "nbformat": 4,
 "nbformat_minor": 4
}
