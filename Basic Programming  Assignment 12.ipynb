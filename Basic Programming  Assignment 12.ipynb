{
 "cells": [
  {
   "cell_type": "markdown",
   "metadata": {},
   "source": [
    "# Q1: Python program to Extract Unique values dictionary values"
   ]
  },
  {
   "cell_type": "code",
   "execution_count": 19,
   "metadata": {},
   "outputs": [
    {
     "data": {
      "text/plain": [
       "{1, 2, 3}"
      ]
     },
     "execution_count": 19,
     "metadata": {},
     "output_type": "execute_result"
    }
   ],
   "source": [
    "d = {'a':1, 'b':2, 'c':1, 'd':3, 'e':1, 'f':1, 'g':2}\n",
    "\n",
    "set(d.values())"
   ]
  },
  {
   "cell_type": "markdown",
   "metadata": {},
   "source": [
    "# Q2: Python program to find the sum of all items in a dictionary"
   ]
  },
  {
   "cell_type": "code",
   "execution_count": 21,
   "metadata": {},
   "outputs": [
    {
     "data": {
      "text/plain": [
       "11"
      ]
     },
     "execution_count": 21,
     "metadata": {},
     "output_type": "execute_result"
    }
   ],
   "source": [
    "d = {'a':1, 'b':2, 'c':1, 'd':3, 'e':1, 'f':1, 'g':2}\n",
    "\n",
    "sum(d.values())"
   ]
  },
  {
   "cell_type": "markdown",
   "metadata": {},
   "source": [
    "# Q3: Python program to Merging two Dictionaries"
   ]
  },
  {
   "cell_type": "code",
   "execution_count": 28,
   "metadata": {},
   "outputs": [
    {
     "data": {
      "text/plain": [
       "{'a': 1,\n",
       " 'b': 2,\n",
       " 'c': 1,\n",
       " 'd': 3,\n",
       " 'e': 1,\n",
       " 'f': 1,\n",
       " 'g': 2,\n",
       " 'h': 1,\n",
       " 'i': 2,\n",
       " 'j': 1,\n",
       " 'k': 3,\n",
       " 'l': 1,\n",
       " 'm': 1,\n",
       " 'n': 2}"
      ]
     },
     "execution_count": 28,
     "metadata": {},
     "output_type": "execute_result"
    }
   ],
   "source": [
    "d1 = {'a':1, 'b':2, 'c':1, 'd':3, 'e':1, 'f':1, 'g':2}\n",
    "d2 = {'h':1, 'i':2, 'j':1, 'k':3, 'l':1, 'm':1, 'n':2}\n",
    "\n",
    "d1.update(d2)\n",
    "d1"
   ]
  },
  {
   "cell_type": "markdown",
   "metadata": {},
   "source": [
    "# Q4: Python program to convert key-values list to flat dictionary"
   ]
  },
  {
   "cell_type": "code",
   "execution_count": 32,
   "metadata": {},
   "outputs": [
    {
     "data": {
      "text/plain": [
       "{'a': 1, 'b': 2, 'c': 1, 'd': 3, 'e': 1, 'f': 1, 'g': 2}"
      ]
     },
     "execution_count": 32,
     "metadata": {},
     "output_type": "execute_result"
    }
   ],
   "source": [
    "d = {'k': ['a', 'b', 'c', 'd', 'e', 'f', 'g'],\n",
    "     'v': [1, 2, 1, 3, 1, 1, 2]\n",
    "    }\n",
    "\n",
    "dict(zip(d['k'], d['v']))"
   ]
  },
  {
   "cell_type": "markdown",
   "metadata": {},
   "source": [
    "# Q5: Python program to insertion at the beginning in OrderedDict"
   ]
  },
  {
   "cell_type": "code",
   "execution_count": 33,
   "metadata": {},
   "outputs": [
    {
     "data": {
      "text/plain": [
       "OrderedDict([('a', 1), ('b', 2), ('c', 3), ('d', 4)])"
      ]
     },
     "execution_count": 33,
     "metadata": {},
     "output_type": "execute_result"
    }
   ],
   "source": [
    "from collections import OrderedDict\n",
    "\n",
    "od = OrderedDict()\n",
    "od['a'] = 1\n",
    "od['b'] = 2\n",
    "od['c'] = 3\n",
    "od['d'] = 4\n",
    "\n",
    "od"
   ]
  },
  {
   "cell_type": "code",
   "execution_count": 34,
   "metadata": {},
   "outputs": [
    {
     "data": {
      "text/plain": [
       "OrderedDict([('e', 5), ('a', 1), ('b', 2), ('c', 3), ('d', 4)])"
      ]
     },
     "execution_count": 34,
     "metadata": {},
     "output_type": "execute_result"
    }
   ],
   "source": [
    "od.update({'e':5})\n",
    "od.move_to_end('e', last = False)\n",
    "od"
   ]
  },
  {
   "cell_type": "markdown",
   "metadata": {},
   "source": [
    "# Q6:  Python program to check order of character in string using OrderedDict()"
   ]
  },
  {
   "cell_type": "code",
   "execution_count": 36,
   "metadata": {},
   "outputs": [],
   "source": [
    "from collections import OrderedDict\n",
    "def check_order_character(input_str, character):\n",
    "    my_dict = OrderedDict.fromkeys(input_str)\n",
    "    character_length = 0\n",
    "    for key,value in my_dict.items():\n",
    "        if (key == character[character_length]):\n",
    "            character_length = character_length + 1\n",
    "\n",
    "        if (character_length == (len(character))):\n",
    "            return 'The order of character is correct'\n",
    "\n",
    "    return 'The order of character is incorrect'"
   ]
  },
  {
   "cell_type": "code",
   "execution_count": 37,
   "metadata": {},
   "outputs": [
    {
     "data": {
      "text/plain": [
       "'The order of character is correct'"
      ]
     },
     "execution_count": 37,
     "metadata": {},
     "output_type": "execute_result"
    }
   ],
   "source": [
    "check_order_character('abcdefghij', 'efg')"
   ]
  },
  {
   "cell_type": "markdown",
   "metadata": {},
   "source": [
    "# Q7: Python program to sort Python Dictionaries by Key or Value"
   ]
  },
  {
   "cell_type": "code",
   "execution_count": 38,
   "metadata": {},
   "outputs": [
    {
     "data": {
      "text/plain": [
       "{'h': 1,\n",
       " 'i': 2,\n",
       " 'j': 1,\n",
       " 'k': 3,\n",
       " 'l': 1,\n",
       " 'm': 1,\n",
       " 'n': 2,\n",
       " 'a': 1,\n",
       " 'b': 2,\n",
       " 'c': 1,\n",
       " 'd': 3,\n",
       " 'e': 1,\n",
       " 'f': 1,\n",
       " 'g': 2}"
      ]
     },
     "execution_count": 38,
     "metadata": {},
     "output_type": "execute_result"
    }
   ],
   "source": [
    "d1 = {'a':1, 'b':2, 'c':1, 'd':3, 'e':1, 'f':1, 'g':2}\n",
    "d2 = {'h':1, 'i':2, 'j':1, 'k':3, 'l':1, 'm':1, 'n':2}\n",
    "\n",
    "d2.update(d1)\n",
    "d2"
   ]
  },
  {
   "cell_type": "markdown",
   "metadata": {},
   "source": [
    "# sort by keys"
   ]
  },
  {
   "cell_type": "code",
   "execution_count": 45,
   "metadata": {},
   "outputs": [
    {
     "data": {
      "text/plain": [
       "['a', 'b', 'c', 'd', 'e', 'f', 'g', 'h', 'i', 'j', 'k', 'l', 'm', 'n']"
      ]
     },
     "execution_count": 45,
     "metadata": {},
     "output_type": "execute_result"
    }
   ],
   "source": [
    "sorted(d2.keys())"
   ]
  },
  {
   "cell_type": "code",
   "execution_count": 43,
   "metadata": {},
   "outputs": [
    {
     "data": {
      "text/plain": [
       "{'a': 1,\n",
       " 'b': 2,\n",
       " 'c': 1,\n",
       " 'd': 3,\n",
       " 'e': 1,\n",
       " 'f': 1,\n",
       " 'g': 2,\n",
       " 'h': 1,\n",
       " 'i': 2,\n",
       " 'j': 1,\n",
       " 'k': 3,\n",
       " 'l': 1,\n",
       " 'm': 1,\n",
       " 'n': 2}"
      ]
     },
     "execution_count": 43,
     "metadata": {},
     "output_type": "execute_result"
    }
   ],
   "source": [
    "d = {}\n",
    "for i in sorted(d2.keys()):\n",
    "    d[i] = d2[i]\n",
    "    \n",
    "d"
   ]
  },
  {
   "cell_type": "markdown",
   "metadata": {},
   "source": [
    "# sort by values"
   ]
  },
  {
   "cell_type": "code",
   "execution_count": 51,
   "metadata": {},
   "outputs": [
    {
     "data": {
      "text/plain": [
       "{'h': 1,\n",
       " 'i': 2,\n",
       " 'j': 1,\n",
       " 'k': 3,\n",
       " 'l': 1,\n",
       " 'm': 1,\n",
       " 'n': 2,\n",
       " 'a': 1,\n",
       " 'b': 2,\n",
       " 'c': 1,\n",
       " 'd': 3,\n",
       " 'e': 1,\n",
       " 'f': 1,\n",
       " 'g': 2}"
      ]
     },
     "execution_count": 51,
     "metadata": {},
     "output_type": "execute_result"
    }
   ],
   "source": [
    "d2"
   ]
  },
  {
   "cell_type": "code",
   "execution_count": 57,
   "metadata": {},
   "outputs": [
    {
     "name": "stdout",
     "output_type": "stream",
     "text": [
      "{'h': 1, 'j': 1, 'l': 1, 'm': 1, 'a': 1, 'c': 1, 'e': 1, 'f': 1, 'n': 2, 'i': 2, 'b': 2, 'g': 2, 'd': 3, 'k': 3}\n"
     ]
    }
   ],
   "source": [
    "item_lst = list(d2.items())\n",
    "\n",
    "l=len(item_lst)\n",
    "\n",
    "for i in range(l-1):\n",
    "    for j in range(i+1,l):\n",
    "        if item_lst[i][1]>item_lst[j][1]:\n",
    "            item_lst[i], item_lst[j] = item_lst[j], item_lst[i]\n",
    "            \n",
    "    sorteddict=dict(item_lst)\n",
    "\n",
    "print(sorteddict)"
   ]
  }
 ],
 "metadata": {
  "kernelspec": {
   "display_name": "Python 3",
   "language": "python",
   "name": "python3"
  },
  "language_info": {
   "codemirror_mode": {
    "name": "ipython",
    "version": 3
   },
   "file_extension": ".py",
   "mimetype": "text/x-python",
   "name": "python",
   "nbconvert_exporter": "python",
   "pygments_lexer": "ipython3",
   "version": "3.8.3"
  }
 },
 "nbformat": 4,
 "nbformat_minor": 4
}
