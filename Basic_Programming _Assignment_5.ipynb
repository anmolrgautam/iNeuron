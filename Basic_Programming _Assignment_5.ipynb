{
 "cells": [
  {
   "cell_type": "markdown",
   "metadata": {},
   "source": [
    "# Q1: Python Program to Find LCM"
   ]
  },
  {
   "cell_type": "code",
   "execution_count": 1,
   "metadata": {},
   "outputs": [],
   "source": [
    "def lcm(*args):\n",
    "    m = max(args)\n",
    "    \n",
    "    while(True):\n",
    "        l = []\n",
    "        for i in args:\n",
    "            l.append(m % i != 0)\n",
    "        \n",
    "        if sum(l) == 0:\n",
    "            break\n",
    "        m += 1\n",
    "    \n",
    "    return m"
   ]
  },
  {
   "cell_type": "code",
   "execution_count": 2,
   "metadata": {},
   "outputs": [
    {
     "data": {
      "text/plain": [
       "1800"
      ]
     },
     "execution_count": 2,
     "metadata": {},
     "output_type": "execute_result"
    }
   ],
   "source": [
    "lcm(2, 3, 8, 12, 25, 30, 72)"
   ]
  },
  {
   "cell_type": "markdown",
   "metadata": {},
   "source": [
    "# Q2: Python Program to Find HCF"
   ]
  },
  {
   "cell_type": "code",
   "execution_count": 3,
   "metadata": {},
   "outputs": [],
   "source": [
    "def hcf(*args):\n",
    "    m = min(args)\n",
    "    \n",
    "    while(True):\n",
    "        l = []\n",
    "        for i in args:\n",
    "            l.append(i % m != 0)\n",
    "        \n",
    "        if sum(l) == 0:\n",
    "            break\n",
    "        m -= 1\n",
    "    \n",
    "    return m"
   ]
  },
  {
   "cell_type": "code",
   "execution_count": 4,
   "metadata": {},
   "outputs": [
    {
     "data": {
      "text/plain": [
       "50"
      ]
     },
     "execution_count": 4,
     "metadata": {},
     "output_type": "execute_result"
    }
   ],
   "source": [
    "hcf(20000, 1200, 2250, 4000)"
   ]
  },
  {
   "cell_type": "markdown",
   "metadata": {},
   "source": [
    "# Q3: Python Program to Convert Decimal to Binary, Octal and Hexadecimal"
   ]
  },
  {
   "cell_type": "code",
   "execution_count": 5,
   "metadata": {},
   "outputs": [],
   "source": [
    "def conversion(d):\n",
    "    d1, d2, d3 = d, d, d\n",
    "    conv = {}\n",
    "    \n",
    "    b = ''\n",
    "    if d1 == 0:\n",
    "        b = '0'\n",
    "    else:\n",
    "        while(d1>0):\n",
    "            b = str(d1%2) + b\n",
    "            d1 = int(d1/2)\n",
    "    \n",
    "    o = ''\n",
    "    if d2 == 0:\n",
    "        o = '0'\n",
    "    else:\n",
    "        while(d2>0):\n",
    "            o = str(d2%8) + o\n",
    "            d2 = int(d2/8)\n",
    "            \n",
    "    h = ''\n",
    "    if d3 == 0:\n",
    "        h = '0'\n",
    "    else:\n",
    "        while(d3>0):\n",
    "            h1 = d3%16\n",
    "            if h1 == 10:\n",
    "                h1 = 'A'\n",
    "            elif h1 == 11:\n",
    "                h1 = 'B'\n",
    "            elif h1 == 12:\n",
    "                h1 = 'C'\n",
    "            elif h1 == 13:\n",
    "                h1 = 'D'\n",
    "            elif h1 == 14:\n",
    "                h1 = 'E'\n",
    "            elif h1 == 15:\n",
    "                h1 = 'F'\n",
    "            else:\n",
    "                h1 = str(h1)\n",
    "                \n",
    "                \n",
    "            h = h1 + h\n",
    "            d3 = int(d3/16)  \n",
    "            \n",
    "    conv['Decimal'] = d\n",
    "    conv['Binary'] = b\n",
    "    conv['Octal'] = o\n",
    "    conv['Hexadecimal'] = h\n",
    "\n",
    "    return conv"
   ]
  },
  {
   "cell_type": "code",
   "execution_count": 6,
   "metadata": {},
   "outputs": [
    {
     "data": {
      "text/plain": [
       "{'Decimal': 30, 'Binary': '11110', 'Octal': '36', 'Hexadecimal': '1E'}"
      ]
     },
     "execution_count": 6,
     "metadata": {},
     "output_type": "execute_result"
    }
   ],
   "source": [
    "conversion(30)"
   ]
  },
  {
   "cell_type": "markdown",
   "metadata": {},
   "source": [
    "# Q4: Program To Find ASCII value of a character"
   ]
  },
  {
   "cell_type": "code",
   "execution_count": 7,
   "metadata": {},
   "outputs": [
    {
     "name": "stdout",
     "output_type": "stream",
     "text": [
      "Input a character: A\n",
      "ASCII value of Character A is: 65\n"
     ]
    }
   ],
   "source": [
    "x = input('Input a character: ')\n",
    "print('ASCII value of Character {} is: {}'.format(x, ord(x)))"
   ]
  },
  {
   "cell_type": "markdown",
   "metadata": {},
   "source": [
    "# Q5: Program to Make a Simple Calculator with 4 basic mathematical operations"
   ]
  },
  {
   "cell_type": "code",
   "execution_count": 8,
   "metadata": {},
   "outputs": [],
   "source": [
    "def isFloat(str_val):\n",
    "    try: \n",
    "        float(str_val)\n",
    "        return True\n",
    "    except:\n",
    "        return False\n",
    "\n",
    "def calculator():\n",
    "    on = input('Enter ON to start calculator: ')\n",
    "    if (on == 'ON'):\n",
    "    \n",
    "        ans = input('\\nEnter a Number or EXIT for exit from calculator: ')\n",
    "        if ans == 'EXIT':\n",
    "            print('OFF')\n",
    "            return\n",
    "        elif isFloat(ans):\n",
    "            ans = float(ans)\n",
    "            \n",
    "            while(True):  \n",
    "                s = input('Enter a operation from +, -, *, /, =: ')\n",
    "        \n",
    "                if s == '=':\n",
    "                    print('\\nAnswer: ', ans)\n",
    "                    break\n",
    "        \n",
    "                a = input('Enter a Number or EXIT for exit from calculator: ')\n",
    "                if a == 'EXIT':\n",
    "                    print('OFF')\n",
    "                    break\n",
    "                elif isFloat(a):\n",
    "                    a = float(a)\n",
    "        \n",
    "                    if s == '+':\n",
    "                        ans += a\n",
    "                        print('\\nAnswer: ', ans)\n",
    "                    elif s == '-':\n",
    "                        ans -= a\n",
    "                        print('\\nAnswer: ', ans)\n",
    "                    elif s == '*':\n",
    "                        ans *= a\n",
    "                        print('\\nAnswer: ', ans)\n",
    "                    elif s == '/':\n",
    "                        if a == 0:\n",
    "                            print('Error: Divide by zero')\n",
    "                            break\n",
    "                        else:\n",
    "                            ans /= a\n",
    "                            print('\\nAnswer: ', ans)\n",
    "                    else:\n",
    "                        print('Operation not supported by calculator.')\n",
    "                        break\n",
    "                else:\n",
    "                    print('Wrong Input')\n",
    "                    return\n",
    "                \n",
    "        else:\n",
    "            print('Wrong Input')\n",
    "            return\n",
    "        \n",
    "    else:\n",
    "        print('OFF')"
   ]
  },
  {
   "cell_type": "code",
   "execution_count": 9,
   "metadata": {},
   "outputs": [
    {
     "name": "stdout",
     "output_type": "stream",
     "text": [
      "Enter ON to start calculator: ON\n",
      "\n",
      "Enter a Number or EXIT for exit from calculator: 5\n",
      "Enter a operation from +, -, *, /, =: *\n",
      "Enter a Number or EXIT for exit from calculator: 3\n",
      "\n",
      "Answer:  15.0\n",
      "Enter a operation from +, -, *, /, =: /\n",
      "Enter a Number or EXIT for exit from calculator: 2.5\n",
      "\n",
      "Answer:  6.0\n",
      "Enter a operation from +, -, *, /, =: +\n",
      "Enter a Number or EXIT for exit from calculator: 20\n",
      "\n",
      "Answer:  26.0\n",
      "Enter a operation from +, -, *, /, =: -\n",
      "Enter a Number or EXIT for exit from calculator: 17\n",
      "\n",
      "Answer:  9.0\n",
      "Enter a operation from +, -, *, /, =: *\n",
      "Enter a Number or EXIT for exit from calculator: 72\n",
      "\n",
      "Answer:  648.0\n",
      "Enter a operation from +, -, *, /, =: =\n",
      "\n",
      "Answer:  648.0\n"
     ]
    }
   ],
   "source": [
    "calculator()"
   ]
  }
 ],
 "metadata": {
  "kernelspec": {
   "display_name": "Python 3",
   "language": "python",
   "name": "python3"
  },
  "language_info": {
   "codemirror_mode": {
    "name": "ipython",
    "version": 3
   },
   "file_extension": ".py",
   "mimetype": "text/x-python",
   "name": "python",
   "nbconvert_exporter": "python",
   "pygments_lexer": "ipython3",
   "version": "3.8.3"
  }
 },
 "nbformat": 4,
 "nbformat_minor": 4
}
