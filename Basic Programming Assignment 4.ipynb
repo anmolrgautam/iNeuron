{
 "cells": [
  {
   "cell_type": "markdown",
   "metadata": {},
   "source": [
    "# Q1: Python Program to Find the Factorial of a Number"
   ]
  },
  {
   "cell_type": "code",
   "execution_count": 1,
   "metadata": {},
   "outputs": [
    {
     "name": "stdout",
     "output_type": "stream",
     "text": [
      "Input a number: 6\n",
      "Factorial of number 6 is: 720\n"
     ]
    }
   ],
   "source": [
    "x = int(input('Input a number: '))\n",
    " \n",
    "fact = 1\n",
    "factorial = 1\n",
    "\n",
    "while (fact <= x):\n",
    "    factorial = factorial * fact \n",
    "    fact += 1\n",
    "\n",
    "print('Factorial of number {} is: {}'.format(x, factorial))"
   ]
  },
  {
   "cell_type": "markdown",
   "metadata": {},
   "source": [
    "# Q2: Python Program to Display the multiplication Table"
   ]
  },
  {
   "cell_type": "code",
   "execution_count": 2,
   "metadata": {},
   "outputs": [
    {
     "name": "stdout",
     "output_type": "stream",
     "text": [
      "Input a number for multiplication table: 23\n",
      "Input number of multiplications in table: 28\n",
      "\n",
      "Multiplication Table of 23\n",
      "\n",
      "##############################################\n",
      "#  Number  #  Multiplier  #  Multiplication  #\n",
      "##############################################\n",
      "#       23 #            1 #               23 #\n",
      "#       23 #            2 #               46 #\n",
      "#       23 #            3 #               69 #\n",
      "#       23 #            4 #               92 #\n",
      "#       23 #            5 #              115 #\n",
      "#       23 #            6 #              138 #\n",
      "#       23 #            7 #              161 #\n",
      "#       23 #            8 #              184 #\n",
      "#       23 #            9 #              207 #\n",
      "#       23 #           10 #              230 #\n",
      "#       23 #           11 #              253 #\n",
      "#       23 #           12 #              276 #\n",
      "#       23 #           13 #              299 #\n",
      "#       23 #           14 #              322 #\n",
      "#       23 #           15 #              345 #\n",
      "#       23 #           16 #              368 #\n",
      "#       23 #           17 #              391 #\n",
      "#       23 #           18 #              414 #\n",
      "#       23 #           19 #              437 #\n",
      "#       23 #           20 #              460 #\n",
      "#       23 #           21 #              483 #\n",
      "#       23 #           22 #              506 #\n",
      "#       23 #           23 #              529 #\n",
      "#       23 #           24 #              552 #\n",
      "#       23 #           25 #              575 #\n",
      "#       23 #           26 #              598 #\n",
      "#       23 #           27 #              621 #\n",
      "#       23 #           28 #              644 #\n",
      "##############################################\n"
     ]
    }
   ],
   "source": [
    "x = int(input('Input a number for multiplication table: '))\n",
    "n = int(input('Input number of multiplications in table: '))\n",
    "\n",
    "print('\\nMultiplication Table of {}\\n'.format(x))\n",
    "print('#'*46)\n",
    "print('#'+ 'Number'.center(10, ' ') + '#' + 'Multiplier'.center(14, ' ') + '#' + 'Multiplication'.center(18, ' ') + '#')\n",
    "print('#'*46)\n",
    "\n",
    "for i in range(1, n+1):\n",
    "    print('#' + str(x).rjust(9, ' ') + ' #' + str(i).rjust(13, ' ') + ' #' + str(x*i).rjust(17, ' ') + ' #')\n",
    "    \n",
    "print('#'*46)"
   ]
  },
  {
   "cell_type": "markdown",
   "metadata": {},
   "source": [
    "# Q3: Program to Print the Fibonacci sequence"
   ]
  },
  {
   "cell_type": "code",
   "execution_count": 3,
   "metadata": {},
   "outputs": [
    {
     "name": "stdout",
     "output_type": "stream",
     "text": [
      "Input a number: 15\n",
      "\n",
      "Fibonacci Sequence\n",
      "\n",
      "1 1 2 3 5 8 13 21 34 55 89 144 233 377 610 "
     ]
    }
   ],
   "source": [
    "x = int(input('Input a number: '))\n",
    "\n",
    "a = 0\n",
    "b = 1\n",
    "fib = 1\n",
    "\n",
    "print('\\nFibonacci Sequence\\n')\n",
    "\n",
    "for i in range(x):\n",
    "    print(fib, end = ' ')\n",
    "    fib = a+b\n",
    "    a = b\n",
    "    b = fib"
   ]
  },
  {
   "cell_type": "markdown",
   "metadata": {},
   "source": [
    "# Q4: Python Program to Check Armstrong Number"
   ]
  },
  {
   "cell_type": "code",
   "execution_count": 4,
   "metadata": {},
   "outputs": [
    {
     "name": "stdout",
     "output_type": "stream",
     "text": [
      "Input a number: 55\n",
      "Number 55 is not a Armstrong Number.\n"
     ]
    }
   ],
   "source": [
    "x = input('Input a number: ')\n",
    "\n",
    "n = len(x)\n",
    "sum = 0\n",
    "for i in range(n):\n",
    "    sum += int(x[i])**n\n",
    "    \n",
    "if int(x) == sum:\n",
    "    print('Number {} is a Armstrong Number.'.format(x))\n",
    "else:\n",
    "    print('Number {} is not a Armstrong Number.'.format(x))"
   ]
  },
  {
   "cell_type": "markdown",
   "metadata": {},
   "source": [
    "# Q5: Python Program to Find Armstrong Number in an Interval"
   ]
  },
  {
   "cell_type": "code",
   "execution_count": 5,
   "metadata": {},
   "outputs": [
    {
     "name": "stdout",
     "output_type": "stream",
     "text": [
      "Enter Lower and Upper value of Interval: 100 200\n",
      "Number 153 is a Armstrong Number.\n"
     ]
    }
   ],
   "source": [
    "a, b = input('Enter Lower and Upper value of Interval: ').split()\n",
    "a = int(a)\n",
    "b = int(b)\n",
    "\n",
    "for i in range(a, b):\n",
    "    x = str(i)\n",
    "    n = len(x)\n",
    "    sum = 0\n",
    "    for j in range(n):\n",
    "        sum += int(x[j])**n\n",
    "    \n",
    "    if i == sum:\n",
    "        print('Number {} is a Armstrong Number.'.format(i))"
   ]
  },
  {
   "cell_type": "markdown",
   "metadata": {},
   "source": [
    "# Q6: Python Program to Find the Sum of Natural Numbers"
   ]
  },
  {
   "cell_type": "code",
   "execution_count": 6,
   "metadata": {},
   "outputs": [
    {
     "name": "stdout",
     "output_type": "stream",
     "text": [
      "Enter a Number: 50\n",
      "Sum of 50 natual numbers: 1275\n"
     ]
    }
   ],
   "source": [
    "x = int(input('Enter a Number: '))\n",
    "\n",
    "sum = 0\n",
    "for i in range(1, x+1):\n",
    "    sum += i\n",
    "\n",
    "print('Sum of {} natual numbers: {}'.format(x, sum))"
   ]
  },
  {
   "cell_type": "code",
   "execution_count": null,
   "metadata": {},
   "outputs": [],
   "source": []
  }
 ],
 "metadata": {
  "kernelspec": {
   "display_name": "Python 3",
   "language": "python",
   "name": "python3"
  },
  "language_info": {
   "codemirror_mode": {
    "name": "ipython",
    "version": 3
   },
   "file_extension": ".py",
   "mimetype": "text/x-python",
   "name": "python",
   "nbconvert_exporter": "python",
   "pygments_lexer": "ipython3",
   "version": "3.8.3"
  }
 },
 "nbformat": 4,
 "nbformat_minor": 4
}
