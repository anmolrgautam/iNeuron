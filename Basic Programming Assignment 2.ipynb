{
 "cells": [
  {
   "cell_type": "markdown",
   "metadata": {},
   "source": [
    "# Q1: Convert kilometers to miles"
   ]
  },
  {
   "cell_type": "code",
   "execution_count": 1,
   "metadata": {},
   "outputs": [
    {
     "name": "stdout",
     "output_type": "stream",
     "text": [
      "Enter Distance in Kilometers: 10\n",
      "10.0 km is equal to 6.213711922 mi\n"
     ]
    }
   ],
   "source": [
    "km = float(input('Enter Distance in Kilometers: '))\n",
    "miles = 0.6213711922 * km\n",
    "\n",
    "print('{} km is equal to {} mi'.format(km, miles))"
   ]
  },
  {
   "cell_type": "markdown",
   "metadata": {},
   "source": [
    "# Q2: Convert Celcius to Farenheit"
   ]
  },
  {
   "cell_type": "code",
   "execution_count": 2,
   "metadata": {},
   "outputs": [
    {
     "name": "stdout",
     "output_type": "stream",
     "text": [
      "Enter Temprature in Celcius: 100\n",
      "100.0 Celcius is equal to 212.0 Farenheit\n"
     ]
    }
   ],
   "source": [
    "c = float(input('Enter Temprature in Celcius: '))\n",
    "f = 9/5 * c + 32\n",
    "\n",
    "print('{} Celcius is equal to {} Farenheit'.format(c, f))"
   ]
  },
  {
   "cell_type": "markdown",
   "metadata": {},
   "source": [
    "# Q3: Display Calender"
   ]
  },
  {
   "cell_type": "code",
   "execution_count": 3,
   "metadata": {},
   "outputs": [
    {
     "name": "stdout",
     "output_type": "stream",
     "text": [
      "Enter year: 2021\n",
      "Enter month: 4\n",
      "     April 2021\n",
      "Mo Tu We Th Fr Sa Su\n",
      "          1  2  3  4\n",
      " 5  6  7  8  9 10 11\n",
      "12 13 14 15 16 17 18\n",
      "19 20 21 22 23 24 25\n",
      "26 27 28 29 30\n",
      "\n"
     ]
    }
   ],
   "source": [
    "# import calendar module\n",
    "import calendar\n",
    "\n",
    "y = int(input(\"Enter year: \"))\n",
    "m = int(input(\"Enter month: \"))\n",
    "\n",
    "print(calendar.month(y, m))"
   ]
  },
  {
   "cell_type": "markdown",
   "metadata": {},
   "source": [
    "# Q4: Solve Quadratic Equation"
   ]
  },
  {
   "cell_type": "code",
   "execution_count": 4,
   "metadata": {},
   "outputs": [
    {
     "name": "stdout",
     "output_type": "stream",
     "text": [
      "Input quadratic equation coefficient a, b, c with \",\" separation: 1, 2, 3\n",
      "\n",
      "Equation has imaginary roots\n",
      "\n",
      "Roots are -1.0 - 1.4142135623730951j, -1.0 + 1.4142135623730951j\n"
     ]
    }
   ],
   "source": [
    "a, b, c = input('Input quadratic equation coefficient a, b, c with \",\" separation: ').split(',')\n",
    "\n",
    "a, b, c = float(a), float(b), float(c)\n",
    "\n",
    "d = b*b - 4*a*c\n",
    "\n",
    "# check for discriminat\n",
    "if (d) == 0:\n",
    "    print('\\nEquation has equal roots')\n",
    "    print('\\nRoots are {}, {}'.format(-b/2/a, -b/2/a))\n",
    "    \n",
    "elif (d) > 0:\n",
    "    print('\\nEquation has real roots')\n",
    "    print('\\nRoots are {}, {}'.format((-b - d**0.5 )/2/a, (-b + d**0.5)/2/a))\n",
    "    \n",
    "else:\n",
    "    print('\\nEquation has imaginary roots')\n",
    "    print('\\nRoots are {}, {}'.format((str(-b/2/a) + ' - ' + str(((-d)**0.5)/2/a) + 'j'), (str(-b/2/a) + ' + ' + str(((-d)**0.5)/2/a) + 'j')))"
   ]
  },
  {
   "cell_type": "markdown",
   "metadata": {},
   "source": [
    "# Q5: Swap two variables without temp variable"
   ]
  },
  {
   "cell_type": "code",
   "execution_count": 5,
   "metadata": {},
   "outputs": [
    {
     "name": "stdout",
     "output_type": "stream",
     "text": [
      "Input Two values separate by \",\" :abcd, 1234\n",
      "Swaped values are  1234 and abcd\n"
     ]
    }
   ],
   "source": [
    "a, b = input('Input Two values separate by \",\" :').split(',')\n",
    "\n",
    "# Swap \n",
    "a, b = b, a\n",
    "\n",
    "print('Swaped values are {} and {}'.format(a,b))"
   ]
  }
 ],
 "metadata": {
  "kernelspec": {
   "display_name": "Python 3",
   "language": "python",
   "name": "python3"
  },
  "language_info": {
   "codemirror_mode": {
    "name": "ipython",
    "version": 3
   },
   "file_extension": ".py",
   "mimetype": "text/x-python",
   "name": "python",
   "nbconvert_exporter": "python",
   "pygments_lexer": "ipython3",
   "version": "3.8.3"
  }
 },
 "nbformat": 4,
 "nbformat_minor": 4
}
